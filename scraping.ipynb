{
 "cells": [
  {
   "cell_type": "markdown",
   "metadata": {},
   "source": [
    "# Scraping the SEAsia TripAdvisor Dataset"
   ]
  },
  {
   "cell_type": "markdown",
   "metadata": {},
   "source": [
    "This is the first part in a three part series.\n",
    "\n",
    "1. Scraping\n",
    "2. <a href=\"http://nbviewer.ipython.org/github/arhee/tripadvisor/blob/master/tripadvisor.ipynb\">Analysis</a>\n",
    "3. <a href=\"http://nbviewer.ipython.org/github/arhee/tripadvisor/blob/master/model.ipynb\">Rating Prediction</a>"
   ]
  },
  {
   "cell_type": "markdown",
   "metadata": {},
   "source": [
    "### Introduction\n",
    "\n",
    "After graduating, I took some time off to travel the world.  One area that I particularly enjoyed visiting was Southeast Asia.  So for a side project, I decided to scrape the TripAdvisor website for all the attractions reviews in (Cambodia, Laos, Vietnam), mine the data to for <a href=\"http://nbviewer.ipython.org/github/arhee/tripadvisor/blob/master/tripadvisor.ipynb\">interesting insights</a>, and build a <a href=\"http://nbviewer.ipython.org/github/arhee/tripadvisor/blob/master/model.ipynb\">prediction algorithm.</a>\n",
    "\n",
    "While the TripAdvisor website hosts reviews for a number of different categories - restaurants, hotels, attractions, etc., this project will focus on attraction reviews."
   ]
  },
  {
   "cell_type": "markdown",
   "metadata": {},
   "source": [
    "### The Structure of TripAdvisor.com\n",
    "\n",
    "The overall structure of the website is a heavily nested format where the item of interest is a review page buried underneath many pages as shown below:\n",
    "\n",
    "<ul><li>Country 1\n",
    "    <ul><li>City 1\n",
    "        <ul><li>Attraction 1</li>\n",
    "                <ul><li> Review Page 1</li>\n",
    "                    <li> Review Page 2</li></ul>\n",
    "            <li>Grouped Attraction 1</li>\n",
    "                <ul><li>Attraction 2</li>\n",
    "                        <ul><li> Review Page 1</li>\n",
    "                            <li> Review Page 2</li></ul></ul>\n",
    "                <ul><li>Attraction 3</li>\n",
    "                        <ul><li> Review Page 1</li>\n",
    "                            <li> Review Page 2</li></ul>\n",
    "                </ul>"
   ]
  },
  {
   "cell_type": "markdown",
   "metadata": {},
   "source": [
    "A couple of potential difficulties are immediately noticeable: the multi-layered nesting, although predictable, necessites a flexible scraper.  For example, in the figure below, we can see that the 'Old Quarter' is an Attraction object, whereas 'Sighseeing Tours' is a Grouped Attraction object.  The scraper needs to differentiate between the two objects and act appropriately."
   ]
  },
  {
   "cell_type": "markdown",
   "metadata": {},
   "source": [
    "<img src=\"figs/attractions.png\" style=\"max-height: 300; max-width: 400px;\">\n",
    "\n",
    "In addition, the site employs javascript popups that prevented access to information.  Therefore, due to these constraints, I wrote my own <a href=\"https://github.com/arhee/tripadvisor_scraper\">scraper</a> with the help of the Selenium package, a set of tools for web browser automation.\n"
   ]
  },
  {
   "cell_type": "markdown",
   "metadata": {},
   "source": [
    "### Scraping Data\n",
    "\n",
    "Each review page holds up to 10 reviews which is what we are interested in.  An example of a review is shown below:\n",
    "\n",
    "<img src=\"figs/scraped_review.png\" style=\"max-height: 300; max-width: 400px;\">\n",
    "\n",
    "We can easily extract the HTML with Selenium and parse it using the BeautifulSoup library for python.  Then from the data, we can obtain the following relevant pieces of information:\n",
    "<ul>\n",
    "<li>Review Text/Title</li>\n",
    "<li>Rating</li>\n",
    "<li>Review Date</li>\n",
    "<li>Language</li>\n",
    "<li>User Properties</li>\n",
    "<li>Item Rated</li>\n",
    "</ul>\n",
    "\n",
    "In addition, from the review page itself, we have the following pieces of information:\n",
    "\n",
    "<ul>\n",
    "<li>Country</li>\n",
    "<li>City</li>\n",
    "<li>Attraction Name</li>\n",
    "<li>TripAdvisor Designated Categories</li>\n",
    "</ul>\n",
    "\n",
    "These data can then be entered as a single review entry in a SQLite database.  \n",
    "\n",
    "In all, it took about a week or so of scraping to amass the final database:\n",
    "<ul>\n",
    "<li>430k reviews, 200k users, 4.5k reviewed attractions at 600MB.</li></ul>"
   ]
  },
  {
   "cell_type": "markdown",
   "metadata": {},
   "source": [
    "### Lessons learned\n",
    "#### Bookmarks to pick up where last left off\n",
    "The crawler was mostly automatic. However, crashes due to a faulty internet connection or upset OS were inevitable.  A bookmark marking the precise page saved a lot of time.  This was more difficult than anticipated since the scraping order is not explicitly given.\n",
    "\n",
    "#### Redundancy checking\n",
    "The quantity of redundant reviews on the website was not anticipated.  After implementing a feature to check the database for redundant attractions, the scraping speed sped up considerably."
   ]
  },
  {
   "cell_type": "markdown",
   "metadata": {},
   "source": [
    "On the to the <a href=\"http://nbviewer.ipython.org/github/arhee/tripadvisor/blob/master/tripadvisor.ipynb\">Analysis</a>"
   ]
  }
 ],
 "metadata": {
  "kernelspec": {
   "display_name": "Python 2",
   "language": "python",
   "name": "python2"
  },
  "language_info": {
   "codemirror_mode": {
    "name": "ipython",
    "version": 2
   },
   "file_extension": ".py",
   "mimetype": "text/x-python",
   "name": "python",
   "nbconvert_exporter": "python",
   "pygments_lexer": "ipython2",
   "version": "2.7.9"
  }
 },
 "nbformat": 4,
 "nbformat_minor": 0
}
