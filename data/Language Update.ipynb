{
 "cells": [
  {
   "cell_type": "code",
   "execution_count": 4,
   "metadata": {
    "collapsed": true
   },
   "outputs": [],
   "source": [
    "from langdetect import detect\n",
    "import sys\n",
    "import sqlite3"
   ]
  },
  {
   "cell_type": "code",
   "execution_count": 5,
   "metadata": {
    "collapsed": false
   },
   "outputs": [],
   "source": [
    "dbname = 'mod_trip_advisor.db'\n",
    "\n",
    "with sqlite3.connect(dbname) as conn:\n",
    "    cur = conn.cursor()\n",
    "    qry = \"\"\"SELECT key from reviews WHERE country IN ('Laos')\n",
    "            \"\"\"\n",
    "    cur.execute(qry)\n",
    "    key_list = cur.fetchall()\n"
   ]
  },
  {
   "cell_type": "code",
   "execution_count": null,
   "metadata": {
    "collapsed": true
   },
   "outputs": [],
   "source": []
  },
  {
   "cell_type": "code",
   "execution_count": 6,
   "metadata": {
    "collapsed": false
   },
   "outputs": [
    {
     "name": "stdout",
     "output_type": "stream",
     "text": [
      " idx:  26100"
     ]
    }
   ],
   "source": [
    "#update all the languages\n",
    "#cursor.execute(qry, vars) - vars needs to be a list\n",
    "with sqlite3.connect(dbname) as conn:\n",
    "    cur = conn.cursor()\n",
    "    for ix, key in enumerate(key_list):\n",
    "        if ix % 10 == 0:\n",
    "            sys.stdout.flush()\n",
    "            sys.stdout.write(\"\\r idx: % d\" % ix)\n",
    "        qry = \"\"\"SELECT review_text FROM reviews WHERE key = '{}' \"\"\".format(key[0])\n",
    "        cur.execute(qry)\n",
    "        review = cur.fetchall()[0][0]\n",
    "        \n",
    "        try:\n",
    "            lang = detect(review)\n",
    "        except langdetect.lang_detect_exception.LangDetectException:\n",
    "            continue\n",
    "        qry = \"\"\"UPDATE reviews SET lang = '{}'\n",
    "                WHERE key = '{}'\"\"\".format(lang, key[0])\n",
    "        cur.execute(qry)\n",
    "        if ix%10 == 0:\n",
    "            conn.commit()\n",
    "\n",
    "        "
   ]
  },
  {
   "cell_type": "code",
   "execution_count": null,
   "metadata": {
    "collapsed": false
   },
   "outputs": [],
   "source": []
  },
  {
   "cell_type": "code",
   "execution_count": null,
   "metadata": {
    "collapsed": true
   },
   "outputs": [],
   "source": []
  },
  {
   "cell_type": "code",
   "execution_count": 99,
   "metadata": {
    "collapsed": false
   },
   "outputs": [],
   "source": [
    "# Save the longform name of the languages\n",
    "with open('lang_dict.txt') as f:\n",
    "    lines = f.read()"
   ]
  },
  {
   "cell_type": "code",
   "execution_count": 113,
   "metadata": {
    "collapsed": false
   },
   "outputs": [],
   "source": [
    "newlines = lines.split(\"\\n\")\n",
    "lang_dict = {}\n",
    "for line in newlines:\n",
    "    groups = line.split()\n",
    "    shortlang = groups[0].replace('hl=','')\n",
    "    longlang = \" \".join(groups[1:])\n",
    "    lang_dict[shortlang] = longlang\n",
    "\n",
    "with open('langdict.json','w') as f:\n",
    "    json.dump(lang_dict, f)"
   ]
  },
  {
   "cell_type": "code",
   "execution_count": 114,
   "metadata": {
    "collapsed": true
   },
   "outputs": [],
   "source": [
    "with open('langdict.json') as f:\n",
    "    lines = f.read()\n",
    "\n",
    "data = json.loads(lines)"
   ]
  },
  {
   "cell_type": "code",
   "execution_count": null,
   "metadata": {
    "collapsed": false
   },
   "outputs": [],
   "source": []
  },
  {
   "cell_type": "code",
   "execution_count": null,
   "metadata": {
    "collapsed": true
   },
   "outputs": [],
   "source": []
  }
 ],
 "metadata": {
  "kernelspec": {
   "display_name": "Python 2",
   "language": "python",
   "name": "python2"
  },
  "language_info": {
   "codemirror_mode": {
    "name": "ipython",
    "version": 2
   },
   "file_extension": ".py",
   "mimetype": "text/x-python",
   "name": "python",
   "nbconvert_exporter": "python",
   "pygments_lexer": "ipython2",
   "version": "2.7.9"
  }
 },
 "nbformat": 4,
 "nbformat_minor": 0
}
