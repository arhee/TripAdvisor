{
 "cells": [
  {
   "cell_type": "markdown",
   "metadata": {},
   "source": [
    "# Analyzing the SEAsia TripAdvisor Dataset"
   ]
  },
  {
   "cell_type": "markdown",
   "metadata": {},
   "source": [
    "### Summary\n",
    "\n",
    "<ul>\n",
    "<li>A handful of cities receive a large share of reviews</li>\n",
    "<li>Reviews can be mined to find non-obvious characteristics of tourist attractions.</li>\n",
    "<li>Tourism trends can possibly be extracted from reviews</li>\n",
    "</ul>"
   ]
  },
  {
   "cell_type": "markdown",
   "metadata": {},
   "source": [
    "### Introduction\n",
    "\n",
    "After graduating, I took some time off to travel the world.  One area that I particularly enjoyed visiting was Southeast Asia.  So for a side project, I decided to scrape the TripAdvisor website for all the attractions reviews in (Cambodia, Laos, Vietnam), mine the data to for insights, and build a <a href=\"http://nbviewer.ipython.org/github/arhee/tripadvisor/blob/master/model.ipynb\">recommendation algorithm.</a>\n",
    "\n",
    "<b>Data</b>\n",
    "<ul>\n",
    "<li>430k reviews, 200k users, 5k reviewed attractions at 800MB.</li>\n",
    "</ul>\n",
    "\n",
    "<b>Processing</b>\n",
    "<ul>\n",
    "<li>Scraped, cleaned, and processed with Python</li>\n",
    "<li>Stored in SQLite</li>\n",
    "<li>Visualizations done in R</li>\n",
    "</ul>"
   ]
  },
  {
   "cell_type": "markdown",
   "metadata": {},
   "source": [
    "### A few cities take the lion's share of reviews\n",
    "\n",
    "<img src=\"figs/city_popularity.png\" style=\"max-height: 400; max-width: 600px;\">\n",
    "\n",
    "We can see that the majority of reviews go to a small number of cities.  In particular, the highest number of reviews belong to the town of Siem Reap, home to the world famous Angkor Wat. There is also a high number of reviews for the most populated urban areas (Ho Chi Minh City, Hanoi) and a popular tourist town (Hoi An) with a subsequent steep drop-off and long tail of many smaller cities. This aligns well with <a href=\"\"> observed power laws </a> in user participation and attraction popularity."
   ]
  },
  {
   "cell_type": "markdown",
   "metadata": {},
   "source": [
    "### The exponential rise of TripAdvisor and the periodicity of tourism"
   ]
  },
  {
   "cell_type": "markdown",
   "metadata": {},
   "source": [
    "<img src=\"figs/country_time.png\" style=\"max-height: 400; max-width: 600px;\">"
   ]
  },
  {
   "cell_type": "markdown",
   "metadata": {},
   "source": [
    "By plotting the number of reviews for each country we notice that there is an exponential increase in the number of reviews over time, likely due to the increased adoption of TripAdvisor as a popular review platform.  We also observe that the number of reviews for Vietnam increased faster than either the rate of Cambodia and Laos, possibly indicative of increased tourism to Vietnam.\n",
    "\n",
    "There is also prominant periodicity in Cambodian reviews peaking in Jan-Feb which is likely due to an increased influx of visitors to Angkor Wat in the <a href=\"http://www.traveldudes.org/travel-tips/climate-and-best-time-visit-angkor-wat-cambodia/2177\">Dec-Feb timeframe</a>.  On the other hand, for those interested in avoiding the tourist crowds, Laos remains a sleepy and unreviewed country."
   ]
  },
  {
   "cell_type": "markdown",
   "metadata": {},
   "source": [
    "### English as lingua franca (on TripAdvisor)"
   ]
  },
  {
   "cell_type": "markdown",
   "metadata": {},
   "source": [
    "<img src=\"figs/location_lang_histo.png\" style=\"max-height: 400; max-width: 600px;\">\n",
    "\n",
    "Next, I was wondered how well my observations while traveling were reflected in the data.\n",
    "\n",
    "The first general observation was that English was the de facto tourist lingua franca everywhere.  The tourist infrastructure (signs, menus, hotels, etc.) in all the countries I visited were in English. As a result, conversations in broken English between two non-native speakers was a common occurence.  With the large caveat that TripAdvisor may be more popular in English speaking countries, the data reflects the dominance of English. \n",
    "\n",
    "The cities of Nha Trang and Phan Thiet (Mui Ne) cities stand out in the proportion of Russian reviews as a consequence of being well-known as tropical get-aways for Russian tourists.\n",
    "\n",
    "There are a fair bit of reviews in French as well, this is unsurprising as large parts of Southeast Asia were formerly known as French Indochina."
   ]
  },
  {
   "cell_type": "markdown",
   "metadata": {},
   "source": [
    "### Where should I be careful?"
   ]
  },
  {
   "cell_type": "markdown",
   "metadata": {},
   "source": [
    "Unfortunately, theft is not an uncommon part of the tourist experience in SEAsia.  In Vietnam, thieves would typically either slash a woman's purse in the marketplace or do a drive-by motorcycle snatching.  The other favored approach was to wait until tourists were in the ocean and then steal their valuables from the beach or the hotel.\n",
    "\n",
    "Most tourist websites may mention theft, but it is rarely quantified.  However, with the TripAdvisor dataset, it may be possible to estimate the comparative frequency of theft.\n",
    "\n",
    "Reviews were filtered for stop words and stemmed.  Reviews with instances of words that had a strong relation to theft (pickpocket, stole) were marked as a theft-related review and counted.\n",
    "\n",
    "For a benchmark, the American city of Baltimore was included."
   ]
  },
  {
   "cell_type": "markdown",
   "metadata": {},
   "source": [
    "<img src=\"figs/pickpocket_cities_histo.png\" style=\"max-height: 400; max-width: 600px;\">\n"
   ]
  },
  {
   "cell_type": "markdown",
   "metadata": {},
   "source": [
    "<b>Lock up your valuables while at the beach and in busy cities!</b>\n",
    "\n",
    "The top three cities with reviews mentioning theft are popular touristy beach towns while the next four cities are the major cities of the region.  Notably, the mention of theft in all these locations are much greater when compared to Baltimore.  This aligns well with my personal experiences.  At one point while in Ho Chi Minh City, roughly 20% of my hostel had been victims of some sort of theft!\n",
    "\n",
    "Are there specific places to be wary of?"
   ]
  },
  {
   "cell_type": "markdown",
   "metadata": {
    "collapsed": false
   },
   "source": [
    "<img src=\"figs/pickpocket_locs_histo.png\" style=\"max-height: 400; max-width: 600px;\">"
   ]
  },
  {
   "cell_type": "markdown",
   "metadata": {},
   "source": [
    "<b>Thieves like busy markets!</b>\n",
    "\n",
    "With the notable exception of the Why Not Bar, theft is most often mentioned in the reviews of markets in busy cities.  Notably, the locations listed for Ho Chi Minh City are the major backpacker areas.  All three areas are within ~500m of each other and favorites of thieves on motorcycles and pickpockets. The inclusion of the Angkor National Museum is likely due to users commenting on cultural artefacts that were stolen.\n",
    "\n",
    "How about scams? The bane of any tourist's existence."
   ]
  },
  {
   "cell_type": "markdown",
   "metadata": {
    "collapsed": false
   },
   "source": [
    "<img src=\"figs/scam_locs_histo.png\" style=\"max-height: 400; max-width: 600px;\">"
   ]
  },
  {
   "cell_type": "markdown",
   "metadata": {},
   "source": [
    "<b>Angkor What?</b>\n",
    "\n",
    "The top 5 out of 6 are reviews of the Tonle Sap lake nearby Angkor Wat.  It's interesting that it is so localized."
   ]
  },
  {
   "cell_type": "markdown",
   "metadata": {},
   "source": [
    "### Conclusions\n",
    "\n",
    "The TripAdvisor dataset is rich in text that can be mined for local characteristic information that may have been buried underneath thousands of reviews.\n",
    "\n",
    "In addition, we observe that the TripAdvisor data could potentially reflect real demographic trends in tourism.  This could possibly be of use for operators in the tourism industry as well as tourists themselves."
   ]
  }
 ],
 "metadata": {
  "kernelspec": {
   "display_name": "Python 2",
   "language": "python",
   "name": "python2"
  },
  "language_info": {
   "codemirror_mode": {
    "name": "ipython",
    "version": 2
   },
   "file_extension": ".py",
   "mimetype": "text/x-python",
   "name": "python",
   "nbconvert_exporter": "python",
   "pygments_lexer": "ipython2",
   "version": "2.7.9"
  }
 },
 "nbformat": 4,
 "nbformat_minor": 0
}
