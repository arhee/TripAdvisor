{
 "cells": [
  {
   "cell_type": "code",
   "execution_count": 1,
   "metadata": {
    "collapsed": true
   },
   "outputs": [],
   "source": [
    "from selenium import webdriver\n",
    "from selenium.webdriver.support.ui import WebDriverWait\n",
    "from bs4 import BeautifulSoup as bs\n",
    "import time"
   ]
  },
  {
   "cell_type": "code",
   "execution_count": 2,
   "metadata": {
    "collapsed": true
   },
   "outputs": [],
   "source": [
    "url = \"http://www.tripadvisor.com/Attraction_Review-g298085-d2348904-Reviews-Phap_Lam_Pagoda-Da_Nang_Quang_Nam_Province.html\"\n",
    "driver = webdriver.Chrome()\n",
    "driver.get(url)\n",
    "html = driver.page_source"
   ]
  },
  {
   "cell_type": "code",
   "execution_count": 12,
   "metadata": {
    "collapsed": false
   },
   "outputs": [
    {
     "name": "stdout",
     "output_type": "stream",
     "text": [
      "\n"
     ]
    }
   ],
   "source": [
    "html = driver.page_source\n",
    "soup = bs(html)\n",
    "\n",
    "navbar = soup.find('div',{'class': \"unified pagination \"})\n",
    "try:\n",
    "    nexturl = base_url + navbar.find(lambda tag: tag.text == 'Next')['href']\n",
    "except:\n",
    "    nexturl = \"\"\n",
    "print nexturl"
   ]
  },
  {
   "cell_type": "code",
   "execution_count": 13,
   "metadata": {
    "collapsed": true
   },
   "outputs": [],
   "source": [
    "nexturl = \"http://www.tripadvisor.com/Attraction_Review-g298085-d2348904-Reviews-Phap_Lam_Pagoda-Da_Nang_Quang_Nam_Province.html\"\n",
    "base_url = 'http://www.tripadvisor.com'\n",
    "\n",
    "while nexturl:\n",
    "    #bookmark nexturl\n",
    "    \n",
    "    driver.get(nexturl)\n",
    "    html = driver.page_source\n",
    "    soup = bs(html)\n",
    "    navbar = soup.find('div',{'class': \"unified pagination \"})\n",
    "    try:\n",
    "        nexturl = base_url + navbar.find(lambda tag: tag.text == 'Next')['href']\n",
    "    except:\n",
    "        nexturl = \"\"\n",
    "    time.sleep(3)\n"
   ]
  },
  {
   "cell_type": "code",
   "execution_count": null,
   "metadata": {
    "collapsed": true
   },
   "outputs": [],
   "source": []
  }
 ],
 "metadata": {
  "kernelspec": {
   "display_name": "Python 2",
   "language": "python",
   "name": "python2"
  },
  "language_info": {
   "codemirror_mode": {
    "name": "ipython",
    "version": 2
   },
   "file_extension": ".py",
   "mimetype": "text/x-python",
   "name": "python",
   "nbconvert_exporter": "python",
   "pygments_lexer": "ipython2",
   "version": "2.7.9"
  }
 },
 "nbformat": 4,
 "nbformat_minor": 0
}
