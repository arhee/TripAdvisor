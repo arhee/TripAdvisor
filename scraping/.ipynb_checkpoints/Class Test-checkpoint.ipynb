{
 "cells": [
  {
   "cell_type": "code",
   "execution_count": 1,
   "metadata": {
    "collapsed": true
   },
   "outputs": [],
   "source": [
    "class Pet(object):\n",
    "    def __init__(self, name, species):\n",
    "        self.name = name\n",
    "        self.species = species\n",
    "        \n",
    "    def getName(self):\n",
    "        return self.name\n",
    "    \n",
    "    def __str__(self):\n",
    "        return \"{} is a {}\".format(self.name, self.species)"
   ]
  },
  {
   "cell_type": "code",
   "execution_count": 3,
   "metadata": {
    "collapsed": false
   },
   "outputs": [],
   "source": [
    "# self is the instance of the class\n",
    "# the init functions are called separately.\n",
    "# Not additive unless made explicitly\n",
    "\n",
    "class Dog(Pet):\n",
    "    def __init__(self, name, chases_cats):\n",
    "        Pet.__init__(self, name, \"Dog\")\n",
    "        self.chases_cats = chases_cats\n",
    "        \n",
    "    def chasesCats(Self):\n",
    "        return self.chases_Cats"
   ]
  },
  {
   "cell_type": "code",
   "execution_count": null,
   "metadata": {
    "collapsed": true
   },
   "outputs": [],
   "source": [
    "#!The rule of thumb is, don't introduce a new attribute outside of the __init__ method, otherwise you've given the caller an object that isn't fully initialized.\n",
    "#there shouldn't be any series of method calls that can result in the object entering a state that doesn't make sense."
   ]
  }
 ],
 "metadata": {
  "kernelspec": {
   "display_name": "Python 2",
   "language": "python",
   "name": "python2"
  },
  "language_info": {
   "codemirror_mode": {
    "name": "ipython",
    "version": 2
   },
   "file_extension": ".py",
   "mimetype": "text/x-python",
   "name": "python",
   "nbconvert_exporter": "python",
   "pygments_lexer": "ipython2",
   "version": "2.7.9"
  }
 },
 "nbformat": 4,
 "nbformat_minor": 0
}
