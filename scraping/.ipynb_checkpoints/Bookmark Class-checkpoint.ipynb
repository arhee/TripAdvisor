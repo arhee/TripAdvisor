{
 "cells": [
  {
   "cell_type": "code",
   "execution_count": 2,
   "metadata": {
    "collapsed": true
   },
   "outputs": [],
   "source": [
    "import json"
   ]
  },
  {
   "cell_type": "code",
   "execution_count": null,
   "metadata": {
    "collapsed": true
   },
   "outputs": [],
   "source": []
  },
  {
   "cell_type": "code",
   "execution_count": 65,
   "metadata": {
    "collapsed": false
   },
   "outputs": [],
   "source": [
    "# Properties of checkpoint  are\n",
    "# 1 - when i initialize it, it creates the store file\n",
    "# 2 - I can selectively update parts of it\n",
    "# 3 - When I update it, it saves it to the json file\n",
    "\n",
    "class CheckPoint:\n",
    "    def __init__(self, fname):\n",
    "        self.fname = fname\n",
    "        self.hierarchy = ['city_list', 'parent_page', 'review_page', 'group_page']\n",
    "        self.bookmarks = {}\n",
    "        self._loadfile()\n",
    "\n",
    "    def _loadfile(self):\n",
    "        try:\n",
    "            with open(self.fname, 'r') as f:\n",
    "                data = json.load(f)\n",
    "                for k,v in data.items():\n",
    "                    if k in self.hierarchy:\n",
    "                        self.bookmarks[k] = v\n",
    "        except:\n",
    "            open(self.fname, 'w').close()\n",
    "            \n",
    "    def _savefile(self):\n",
    "        with open(self.fname, 'w') as f:\n",
    "            json.dump(self.bookmarks ,f)\n",
    "            \n",
    "    def update(self, **kwargs):\n",
    "        for k, v in kwargs.items():\n",
    "            if k in self.hierarchy:\n",
    "                self.bookmarks[k] = v\n",
    "            else:\n",
    "                raise KeyError('Passed keyword is not a bookmark')\n",
    "        self._savefile()"
   ]
  },
  {
   "cell_type": "code",
   "execution_count": 66,
   "metadata": {
    "collapsed": true
   },
   "outputs": [],
   "source": [
    "f = CheckPoint('test.txt')"
   ]
  },
  {
   "cell_type": "code",
   "execution_count": 75,
   "metadata": {
    "collapsed": false
   },
   "outputs": [],
   "source": [
    "with open('test.txt','w') as f:\n",
    "    d = {'city_url':'hello','a':2, 4:4, 'review_page':4}\n",
    "    json.dump(d, f)"
   ]
  },
  {
   "cell_type": "code",
   "execution_count": 73,
   "metadata": {
    "collapsed": false
   },
   "outputs": [],
   "source": [
    "f.update(city_url='test', parent_page='Batman', review_page='this si a test')"
   ]
  },
  {
   "cell_type": "code",
   "execution_count": 76,
   "metadata": {
    "collapsed": false
   },
   "outputs": [],
   "source": [
    "q = CheckPoint('test.txt')"
   ]
  },
  {
   "cell_type": "code",
   "execution_count": 78,
   "metadata": {
    "collapsed": false
   },
   "outputs": [
    {
     "data": {
      "text/plain": [
       "{u'city_url': u'hello', u'review_page': 4}"
      ]
     },
     "execution_count": 78,
     "metadata": {},
     "output_type": "execute_result"
    }
   ],
   "source": []
  },
  {
   "cell_type": "code",
   "execution_count": 60,
   "metadata": {
    "collapsed": false
   },
   "outputs": [
    {
     "data": {
      "text/plain": [
       "{u'city': u'Batman',\n",
       " u'parent_page': u'http://google.com',\n",
       " u'review_page': u'this si a test'}"
      ]
     },
     "execution_count": 60,
     "metadata": {},
     "output_type": "execute_result"
    }
   ],
   "source": [
    "p.bookmarks"
   ]
  },
  {
   "cell_type": "code",
   "execution_count": 61,
   "metadata": {
    "collapsed": true
   },
   "outputs": [],
   "source": [
    "p.update(parent_page = 'hullaballoo')"
   ]
  },
  {
   "cell_type": "code",
   "execution_count": 63,
   "metadata": {
    "collapsed": false
   },
   "outputs": [
    {
     "data": {
      "text/plain": [
       "{u'city': u'Batman',\n",
       " u'parent_page': 'hullaballoo',\n",
       " u'review_page': u'this si a test'}"
      ]
     },
     "execution_count": 63,
     "metadata": {},
     "output_type": "execute_result"
    }
   ],
   "source": [
    "p.bookmarks"
   ]
  },
  {
   "cell_type": "code",
   "execution_count": null,
   "metadata": {
    "collapsed": true
   },
   "outputs": [],
   "source": []
  }
 ],
 "metadata": {
  "kernelspec": {
   "display_name": "Python 2",
   "language": "python",
   "name": "python2"
  },
  "language_info": {
   "codemirror_mode": {
    "name": "ipython",
    "version": 2
   },
   "file_extension": ".py",
   "mimetype": "text/x-python",
   "name": "python",
   "nbconvert_exporter": "python",
   "pygments_lexer": "ipython2",
   "version": "2.7.9"
  }
 },
 "nbformat": 4,
 "nbformat_minor": 0
}
