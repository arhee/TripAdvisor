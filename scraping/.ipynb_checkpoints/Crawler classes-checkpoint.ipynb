{
 "cells": [
  {
   "cell_type": "code",
   "execution_count": null,
   "metadata": {
    "collapsed": true
   },
   "outputs": [],
   "source": [
    "class PageCrawler:\n",
    "    bookmark = global bookmark\n",
    "    \n",
    "    def __init__(self, driver):\n",
    "        self.driver = driver\n",
    "        self.url = None\n",
    "        self.listfct = None\n",
    "        self.nextfct = None\n",
    "        self.execfct = None\n",
    "\n",
    "        \n",
    "    def start(self):\n",
    "        while self.url:\n",
    "            self.driver.get(self.url)\n",
    "            html = self.driver.page_source\n",
    "            soup = bs(html)\n",
    "            url_list = self.listfct(soup)\n",
    "\n",
    "            for item in url_list:\n",
    "                self.execfct(item)\n",
    "                bookmark.update(k = item)\n",
    "                \n",
    "            self.url = self.nextfct(soup)\n",
    "                \n",
    "\n",
    "class ParentCrawler(PageCrawler):\n",
    "    def __init__(self):\n",
    "    \n",
    "    def "
   ]
  }
 ],
 "metadata": {
  "kernelspec": {
   "display_name": "Python 2",
   "language": "python",
   "name": "python2"
  },
  "language_info": {
   "codemirror_mode": {
    "name": "ipython",
    "version": 2
   },
   "file_extension": ".py",
   "mimetype": "text/x-python",
   "name": "python",
   "nbconvert_exporter": "python",
   "pygments_lexer": "ipython2",
   "version": "2.7.9"
  }
 },
 "nbformat": 4,
 "nbformat_minor": 0
}
