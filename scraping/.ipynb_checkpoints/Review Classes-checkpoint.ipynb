{
 "cells": [
  {
   "cell_type": "code",
   "execution_count": 223,
   "metadata": {
    "collapsed": false
   },
   "outputs": [],
   "source": [
    "with open('test1.html','r') as f:\n",
    "    html = f.read()"
   ]
  },
  {
   "cell_type": "code",
   "execution_count": null,
   "metadata": {
    "collapsed": false
   },
   "outputs": [],
   "source": []
  },
  {
   "cell_type": "code",
   "execution_count": 323,
   "metadata": {
    "collapsed": true
   },
   "outputs": [],
   "source": [
    "from BeautifulSoup import BeautifulSoup\n",
    "import sqlite3"
   ]
  },
  {
   "cell_type": "code",
   "execution_count": 339,
   "metadata": {
    "collapsed": false
   },
   "outputs": [],
   "source": [
    "class Review(object):\n",
    "    def __init__(self, soup):\n",
    "        self.soup = soup\n",
    "        self.attr = {}\n",
    "        self.attr['Rating'] = self.get_rating()\n",
    "        self.attr['Review'] = self.get_review()\n",
    "        self.attr['ReviewDate'] = self.get_reviewdate()\n",
    "        self.attr['VisitDate'] = self.get_visitdate()\n",
    "        self.attr['Title'] = self.get_title()\n",
    "        self.attr['UID'] = self.get_uid()\n",
    "        self.attr['ReviewID'] = self.get_reviewID()\n",
    "        self.attr['User'] = self.get_user()\n",
    "        self.attr['UserHome'] = self.get_userhome()\n",
    "        self.attr['Key'] = self.attr['Uid'] + '-' + str(self.attr['ReviewID'])\n",
    "        \n",
    "    def get_rating(self):        \n",
    "        tag = self.soup.find(lambda tag: tag.name == 'img' and tag.has_key('alt') and 'stars' in tag['alt'])\n",
    "        return int(tag['alt'][0])\n",
    "    \n",
    "    def get_review(self):\n",
    "        texts = self.soup.findAll('div',{'class':'entry'})\n",
    "        return texts[-1].text\n",
    "    \n",
    "    def get_reviewdate(self):\n",
    "        txt = self.soup.find(\"span\", {\"class\":\"ratingDate\"}).contents[0]\n",
    "        date = txt.replace('Reviewed','').strip()\n",
    "        return date #date_object.strftime('%m-%d-%Y')\n",
    "\n",
    "    def get_visitdate(self):\n",
    "        try:\n",
    "            txt = self.soup.find('div',{'class':'recommend'}).text\n",
    "        except:\n",
    "            txt = ''\n",
    "        return txt.replace('Visited','').strip()\n",
    "    \n",
    "    def get_title(self):\n",
    "        return self.soup.find('span',{'class':'noQuotes'}).text\n",
    "    \n",
    "    def get_uid(self):\n",
    "        tag = self.soup.find('div',{'class':'member_info'})\n",
    "        uid = tag.find(lambda tag: tag.name=='div' and tag.has_key('id'))['id']\n",
    "        return uid[4:uid.find('-')]\n",
    "    \n",
    "    def get_reviewID(self):\n",
    "        return int(self.soup['id'][7:])\n",
    "\n",
    "    def get_user(self):\n",
    "        try:\n",
    "            return raw_review.find('div',{'class':'username mo'}).text\n",
    "        except:\n",
    "            return ''    \n",
    "        \n",
    "    def get_userhome(self):\n",
    "        try:\n",
    "            return self.soup.find('div',{'class':'location'}).text\n",
    "        except:\n",
    "            return ''\n",
    "    \n",
    "    def get_vars(self):\n",
    "        return self.attr.keys()\n",
    "    \n",
    "    def get_values(self):\n",
    "        return self.attr.values()\n",
    "    \n",
    "\n"
   ]
  },
  {
   "cell_type": "code",
   "execution_count": 337,
   "metadata": {
    "collapsed": false
   },
   "outputs": [],
   "source": [
    "class ReviewList(object):\n",
    "    def __init__(self):\n",
    "        self.reviews = []\n",
    "        \n",
    "    def size(self):\n",
    "        return len(self.reviews)\n",
    "    \n",
    "    def DBdump(self, dbname):\n",
    "        with sqlite3.connect(dbname) as conn:\n",
    "            #check if exists\n",
    "            for item in self.reviews:\n",
    "                qmarks = ', '.join('?' * len(item.get_vars()))\n",
    "                qry = \"INSERT OR IGNORE INTO {} {} VALUES ({})\".format(tablename, tuple(item.get_vars()), qmarks)\n",
    "                conn.execute(qry, item.get_values()) \n",
    "            conn.commit()\n",
    "    \n",
    "    def append(self, item):\n",
    "        self.reviews.append(item)\n",
    "        "
   ]
  },
  {
   "cell_type": "code",
   "execution_count": 340,
   "metadata": {
    "collapsed": false
   },
   "outputs": [
    {
     "name": "stdout",
     "output_type": "stream",
     "text": [
      "0\n",
      "1\n",
      "2\n",
      "3\n",
      "4\n",
      "5\n",
      "6\n",
      "7\n",
      "8\n",
      "9\n"
     ]
    }
   ],
   "source": [
    "soup = BeautifulSoup(html)\n",
    "mylist = ReviewList()\n",
    "tags = soup.find('div',{'id':'REVIEWS'}).findChildren(recursive=False)\n",
    "reviews = filter(lambda tag: tag.has_key('id') and 'review_' in tag['id'], tags)\n",
    "for idx, raw_review in enumerate(reviews):\n",
    "    print idx\n",
    "    obj = Review(raw_review)\n",
    "    mylist.append(obj)"
   ]
  },
  {
   "cell_type": "code",
   "execution_count": 341,
   "metadata": {
    "collapsed": false
   },
   "outputs": [
    {
     "data": {
      "text/plain": [
       "int"
      ]
     },
     "execution_count": 341,
     "metadata": {},
     "output_type": "execute_result"
    }
   ],
   "source": [
    "type(mylist.reviews[0].attr['ReviewID'])"
   ]
  },
  {
   "cell_type": "code",
   "execution_count": null,
   "metadata": {
    "collapsed": false
   },
   "outputs": [],
   "source": []
  },
  {
   "cell_type": "code",
   "execution_count": null,
   "metadata": {
    "collapsed": false
   },
   "outputs": [],
   "source": []
  },
  {
   "cell_type": "code",
   "execution_count": null,
   "metadata": {
    "collapsed": true
   },
   "outputs": [],
   "source": []
  }
 ],
 "metadata": {
  "kernelspec": {
   "display_name": "Python 2",
   "language": "python",
   "name": "python2"
  },
  "language_info": {
   "codemirror_mode": {
    "name": "ipython",
    "version": 2
   },
   "file_extension": ".py",
   "mimetype": "text/x-python",
   "name": "python",
   "nbconvert_exporter": "python",
   "pygments_lexer": "ipython2",
   "version": "2.7.9"
  }
 },
 "nbformat": 4,
 "nbformat_minor": 0
}
