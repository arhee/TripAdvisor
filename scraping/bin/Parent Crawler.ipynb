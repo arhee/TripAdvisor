{
 "cells": [
  {
   "cell_type": "code",
   "execution_count": 1,
   "metadata": {
    "collapsed": true
   },
   "outputs": [],
   "source": [
    "from selenium import webdriver\n",
    "from selenium.webdriver.support.ui import WebDriverWait\n",
    "from bs4 import BeautifulSoup as bs\n",
    "import time"
   ]
  },
  {
   "cell_type": "code",
   "execution_count": 4,
   "metadata": {
    "collapsed": true
   },
   "outputs": [],
   "source": [
    "url = \"http://www.tripadvisor.com/Attractions-g298085-Activities-Da_Nang_Quang_Nam_Province.html\"\n",
    "base_url = 'http://www.tripadvisor.com'\n",
    "driver = webdriver.Chrome()\n",
    "driver.get(url)\n",
    "html = driver.page_source"
   ]
  },
  {
   "cell_type": "code",
   "execution_count": 14,
   "metadata": {
    "collapsed": false
   },
   "outputs": [],
   "source": []
  },
  {
   "cell_type": "code",
   "execution_count": 52,
   "metadata": {
    "collapsed": false
   },
   "outputs": [
    {
     "ename": "KeyboardInterrupt",
     "evalue": "",
     "output_type": "error",
     "traceback": [
      "\u001b[0;31m---------------------------------------------------------------------------\u001b[0m",
      "\u001b[0;31mKeyboardInterrupt\u001b[0m                         Traceback (most recent call last)",
      "\u001b[0;32m<ipython-input-52-dff5cedc3a58>\u001b[0m in \u001b[0;36m<module>\u001b[0;34m()\u001b[0m\n\u001b[1;32m     22\u001b[0m     \u001b[0;32mfor\u001b[0m \u001b[0murl\u001b[0m \u001b[0;32min\u001b[0m \u001b[0mparent_list\u001b[0m\u001b[0;34m[\u001b[0m\u001b[0;34m:\u001b[0m\u001b[0;36m2\u001b[0m\u001b[0;34m]\u001b[0m\u001b[0;34m:\u001b[0m\u001b[0;34m\u001b[0m\u001b[0m\n\u001b[1;32m     23\u001b[0m         \u001b[0mdriver\u001b[0m\u001b[0;34m.\u001b[0m\u001b[0mget\u001b[0m\u001b[0;34m(\u001b[0m\u001b[0mbase_url\u001b[0m \u001b[0;34m+\u001b[0m \u001b[0murl\u001b[0m\u001b[0;34m)\u001b[0m\u001b[0;34m\u001b[0m\u001b[0m\n\u001b[0;32m---> 24\u001b[0;31m         \u001b[0mtime\u001b[0m\u001b[0;34m.\u001b[0m\u001b[0msleep\u001b[0m\u001b[0;34m(\u001b[0m\u001b[0;36m5\u001b[0m\u001b[0;34m)\u001b[0m\u001b[0;34m\u001b[0m\u001b[0m\n\u001b[0m\u001b[1;32m     25\u001b[0m \u001b[0;34m\u001b[0m\u001b[0m\n\u001b[1;32m     26\u001b[0m     \u001b[0mf\u001b[0m \u001b[0;34m=\u001b[0m \u001b[0msoup\u001b[0m\u001b[0;34m.\u001b[0m\u001b[0mfind\u001b[0m\u001b[0;34m(\u001b[0m\u001b[0;34m'div'\u001b[0m\u001b[0;34m,\u001b[0m\u001b[0;34m{\u001b[0m\u001b[0;34m'id'\u001b[0m\u001b[0;34m:\u001b[0m\u001b[0;34m'pager_top'\u001b[0m\u001b[0;34m,\u001b[0m \u001b[0;34m'class'\u001b[0m\u001b[0;34m:\u001b[0m\u001b[0;34m'pgLinks'\u001b[0m\u001b[0;34m}\u001b[0m\u001b[0;34m)\u001b[0m\u001b[0;34m\u001b[0m\u001b[0m\n",
      "\u001b[0;31mKeyboardInterrupt\u001b[0m: "
     ]
    }
   ],
   "source": [
    "#combined\n",
    "\n",
    "from selenium import webdriver\n",
    "parent_page = \"http://www.tripadvisor.com/Attractions-g298085-Activities-Da_Nang_Quang_Nam_Province.html\"\n",
    "base_url = 'http://www.tripadvisor.com'\n",
    "\n",
    "profile = webdriver.FirefoxProfile(\"/Users/alexrhee/Library/Application Support/Firefox/Profiles/Selenium\")\n",
    "#profile.set_preference('dom.disable_open_during_load', True)\n",
    "\n",
    "try:\n",
    "    driver = webdriver.Firefox(profile)\n",
    "except WebDriverException:\n",
    "    raise WebDriverException\n",
    "\n",
    "# Given the beginning of a city.\n",
    "while parent_page:\n",
    "    driver.get(parent_page)\n",
    "    html = driver.page_source\n",
    "    \n",
    "    #iterates through the parent_urls\n",
    "    soup = bs(html)\n",
    "    parent_tags = soup.findAll('div',{'class':'property_title'})\n",
    "    parent_list = [x.a['href'] for x in parent_tags]\n",
    "    for url in parent_list[:2]:\n",
    "        page_crawler(base_url + url)\n",
    "        time.sleep(5)\n",
    "\n",
    "    # Find the next page of reviews >> \n",
    "    f = soup.find('div',{'id':'pager_top', 'class':'pgLinks'})\n",
    "    try:\n",
    "        nexturl = f.find(lambda tag: tag.name=='a' and tag.text == u\"\\u00BB\")['href']\n",
    "        nexturl = base_url + nexturl\n",
    "    except TypeError:\n",
    "        nexturl = None\n",
    "    time.sleep(5)\n",
    "\n",
    "        \n",
    "    "
   ]
  },
  {
   "cell_type": "code",
   "execution_count": 16,
   "metadata": {
    "collapsed": false
   },
   "outputs": [],
   "source": []
  },
  {
   "cell_type": "code",
   "execution_count": 18,
   "metadata": {
    "collapsed": false
   },
   "outputs": [],
   "source": [
    "#iterates through the parent_urls\n",
    "soup = bs(html)\n",
    "parent_urls = soup.findAll('div',{'class':'property_title'})\n",
    "parent_list = [x.a['href'] for x in parent_urls]\n",
    "for url in parent_list[:3]:\n",
    "    driver.get(base_url + url)\n",
    "    time.sleep(3)\n",
    "    "
   ]
  },
  {
   "cell_type": "code",
   "execution_count": 33,
   "metadata": {
    "collapsed": false
   },
   "outputs": [
    {
     "ename": "KeyboardInterrupt",
     "evalue": "",
     "output_type": "error",
     "traceback": [
      "\u001b[0;31m---------------------------------------------------------------------------\u001b[0m",
      "\u001b[0;31mKeyboardInterrupt\u001b[0m                         Traceback (most recent call last)",
      "\u001b[0;32m<ipython-input-33-7e6ba528d05c>\u001b[0m in \u001b[0;36m<module>\u001b[0;34m()\u001b[0m\n\u001b[1;32m     12\u001b[0m     \u001b[0;32mexcept\u001b[0m \u001b[0mTypeError\u001b[0m\u001b[0;34m:\u001b[0m\u001b[0;34m\u001b[0m\u001b[0m\n\u001b[1;32m     13\u001b[0m         \u001b[0mnexturl\u001b[0m \u001b[0;34m=\u001b[0m \u001b[0mNone\u001b[0m\u001b[0;34m\u001b[0m\u001b[0m\n\u001b[0;32m---> 14\u001b[0;31m     \u001b[0mtime\u001b[0m\u001b[0;34m.\u001b[0m\u001b[0msleep\u001b[0m\u001b[0;34m(\u001b[0m\u001b[0;36m3\u001b[0m\u001b[0;34m)\u001b[0m\u001b[0;34m\u001b[0m\u001b[0m\n\u001b[0m",
      "\u001b[0;31mKeyboardInterrupt\u001b[0m: "
     ]
    }
   ],
   "source": [
    "# Iterates through the parent_pages\n",
    "nexturl = \"http://www.tripadvisor.com/Attractions-g298085-Activities-Da_Nang_Quang_Nam_Province.html\"\n",
    "\n",
    "while nexturl:\n",
    "    driver.get(nexturl)\n",
    "    html = driver.page_source\n",
    "    soup = bs(html)\n",
    "    f = soup.find('div',{'id':'pager_top', 'class':'pgLinks'})\n",
    "    try:\n",
    "        nexturl = f.find(lambda tag: tag.name=='a' and tag.text == u\"\\u00BB\")['href']\n",
    "        nexturl = base_url + nexturl\n",
    "    except TypeError:\n",
    "        nexturl = None\n",
    "    time.sleep(3)"
   ]
  },
  {
   "cell_type": "code",
   "execution_count": 30,
   "metadata": {
    "collapsed": false
   },
   "outputs": [
    {
     "data": {
      "text/plain": [
       "'/Attractions-g298085-Activities-oa30-Da_Nang_Quang_Nam_Province.html'"
      ]
     },
     "execution_count": 30,
     "metadata": {},
     "output_type": "execute_result"
    }
   ],
   "source": [
    "nexturl"
   ]
  },
  {
   "cell_type": "code",
   "execution_count": null,
   "metadata": {
    "collapsed": false
   },
   "outputs": [],
   "source": []
  },
  {
   "cell_type": "code",
   "execution_count": 54,
   "metadata": {
    "collapsed": false
   },
   "outputs": [],
   "source": [
    "nexturl = \"http://www.tripadvisor.com/Attractions-g298085-Activities-Da_Nang_Quang_Nam_Province.html\"\n",
    "base_url = 'http://www.tripadvisor.com'\n",
    "\n",
    "profile = webdriver.FirefoxProfile(\"/Users/alexrhee/Library/Application Support/Firefox/Profiles/Selenium\")\n",
    "profile.set_preference('dom.disable_open_during_load', True)\n",
    "driver = webdriver.Firefox(profile)\n"
   ]
  },
  {
   "cell_type": "code",
   "execution_count": null,
   "metadata": {
    "collapsed": true
   },
   "outputs": [],
   "source": []
  }
 ],
 "metadata": {
  "kernelspec": {
   "display_name": "Python 2",
   "language": "python",
   "name": "python2"
  },
  "language_info": {
   "codemirror_mode": {
    "name": "ipython",
    "version": 2
   },
   "file_extension": ".py",
   "mimetype": "text/x-python",
   "name": "python",
   "nbconvert_exporter": "python",
   "pygments_lexer": "ipython2",
   "version": "2.7.9"
  }
 },
 "nbformat": 4,
 "nbformat_minor": 0
}
