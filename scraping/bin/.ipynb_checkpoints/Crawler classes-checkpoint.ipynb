{
 "cells": [
  {
   "cell_type": "code",
   "execution_count": 79,
   "metadata": {
    "collapsed": false
   },
   "outputs": [],
   "source": [
    "from selenium import webdriver\n",
    "from reviews import Review, ReviewList\n",
    "from bookmark import Bookmark\n",
    "from schema import vietnam_schema\n",
    "import random\n",
    "\n",
    "import time\n",
    "from bs4 import BeautifulSoup as bs\n",
    "\n",
    "fname = '../tests/test_files/review1.html'\n",
    "with open(fname,'r') as f:\n",
    "    html = f.read()\n",
    "soup = bs(html)"
   ]
  },
  {
   "cell_type": "code",
   "execution_count": 124,
   "metadata": {
    "collapsed": true
   },
   "outputs": [],
   "source": [
    "class PageCrawler(object):\n",
    "\n",
    "    def __init__(self, driver):\n",
    "        self.driver = driver\n",
    "        self.base_url = 'http://www.tripadvisor.com'\n",
    "        self.url = None\n",
    "\n",
    "    def listfct(self):\n",
    "        pass\n",
    "    \n",
    "    def nextfct(self):\n",
    "        pass\n",
    "    \n",
    "    def execfct(self):\n",
    "        pass\n",
    "    \n",
    "    def start(self):\n",
    "        while self.url: \n",
    "            self.driver.get(self.url)\n",
    "            time.sleep(random.randint(5,10))\n",
    "            html = self.driver.page_source\n",
    "            soup = bs(html)\n",
    "            div_list = self.listfct(soup)\n",
    "            for item in div_list:\n",
    "                self.execfct(item)\n",
    "            self.url = self.nextfct(soup)\n",
    "         "
   ]
  },
  {
   "cell_type": "code",
   "execution_count": 121,
   "metadata": {
    "collapsed": false
   },
   "outputs": [],
   "source": [
    "class ReviewCrawler(PageCrawler):\n",
    "    def __init__(self, driver):\n",
    "        super(ReviewCrawler, self).__init__(driver)\n",
    "        self.db_name = 'test.db'\n",
    "        self.tbl_name = 'Vietnam'\n",
    "        self.tbl_schema = vietnam_schema\n",
    "        self.review_list = ReviewList(self.db_name, self.tbl_schema, self.tbl_name)\n",
    "        \n",
    "    def listfct(self, soup):        \n",
    "        tags = soup.find('div',{'id':'REVIEWS'}).findChildren(recursive=False)\n",
    "        reviews = filter(lambda tag: tag.has_attr('id') and 'review_' in tag['id'], tags)\n",
    "        return reviews\n",
    "        \n",
    "    def nextfct(self, soup):\n",
    "        navbar = soup.find('div',{'class': \"unified pagination \"})\n",
    "        try:\n",
    "            return self.base_url + navbar.find(lambda tag: tag.text == 'Next')['href']\n",
    "        except:\n",
    "            return None\n",
    "        \n",
    "    def execfct(self, review_soup):\n",
    "        review = Review(review_soup, dict)\n",
    "        self.review_list.append(review)"
   ]
  },
  {
   "cell_type": "code",
   "execution_count": 101,
   "metadata": {
    "collapsed": false
   },
   "outputs": [],
   "source": [
    "url = \"http://www.tripadvisor.com/Attraction_Review-g298085-d2348904-Reviews-Phap_Lam_Pagoda-Da_Nang_Quang_Nam_Province.html\"\n",
    "profile = webdriver.FirefoxProfile(\"/Users/alexrhee/Library/Application Support/Firefox/Profiles/Selenium\")\n",
    "#driver = webdriver.Firefox(profile)\n",
    "#driver.set_page_load_timeout(30)\n",
    "\n",
    "#f = ReviewCrawler(driver)\n",
    "#f.url = url\n",
    "#f.start()\n"
   ]
  },
  {
   "cell_type": "code",
   "execution_count": 86,
   "metadata": {
    "collapsed": false
   },
   "outputs": [
    {
     "data": {
      "text/plain": [
       "'http://www.tripadvisor.com'"
      ]
     },
     "execution_count": 86,
     "metadata": {},
     "output_type": "execute_result"
    }
   ],
   "source": [
    "#import os\n",
    "#os.remove('test.db')\n",
    "f.base_url"
   ]
  },
  {
   "cell_type": "code",
   "execution_count": 122,
   "metadata": {
    "collapsed": true
   },
   "outputs": [],
   "source": [
    "class ParentCrawler(PageCrawler):\n",
    "    def __init__(self, driver):\n",
    "        super(ParentCrawler, self).__init__(driver)\n",
    "        self.review_crawler = ReviewCrawler(driver)\n",
    "    \n",
    "    def listfct(self, soup):\n",
    "        parent_tags = soup.findAll('div',{'class':'property_title'})\n",
    "        return [self.base_url + x.a['href'] for x in parent_tags]\n",
    "    \n",
    "    def execfct(self, item):\n",
    "        self.review_crawler.url = item\n",
    "        self.review_crawler.start()\n",
    "\n",
    "    def nextfct(self, soup):\n",
    "        tags = soup.find('div',{'id':'pager_top', 'class':'pgLinks'})\n",
    "        try:\n",
    "            next_url = tags.find(lambda tag: tag.name=='a' and tag.text == u\"\\u00BB\")['href']\n",
    "            return self.base_url + next_url\n",
    "        except TypeError:\n",
    "            return None"
   ]
  },
  {
   "cell_type": "code",
   "execution_count": 105,
   "metadata": {
    "collapsed": false
   },
   "outputs": [],
   "source": [
    "url = \"http://www.tripadvisor.com/Attractions-g293922-Activities-Dalat_Lam_Dong_Province.html\"\n",
    "profile = webdriver.FirefoxProfile(\"/Users/alexrhee/Library/Application Support/Firefox/Profiles/Selenium\")\n",
    "#driver = webdriver.Firefox(profile)\n",
    "#driver.set_page_load_timeout(30)\n",
    "\n",
    "#f = ParentCrawler(driver)\n",
    "#f.url = url\n",
    "#f.start()\n"
   ]
  },
  {
   "cell_type": "code",
   "execution_count": 50,
   "metadata": {
    "collapsed": false
   },
   "outputs": [
    {
     "name": "stdout",
     "output_type": "stream",
     "text": [
      "[]\n"
     ]
    }
   ],
   "source": [
    "f = ParentCrawler('driver')\n",
    "print f.listfct(soup)"
   ]
  },
  {
   "cell_type": "code",
   "execution_count": 108,
   "metadata": {
    "collapsed": false
   },
   "outputs": [],
   "source": [
    "with open('cities.json', 'r') as f:\n",
    "    lines = f.read()\n",
    "data = json.loads(lines)"
   ]
  },
  {
   "cell_type": "code",
   "execution_count": 123,
   "metadata": {
    "collapsed": false
   },
   "outputs": [
    {
     "ename": "KeyboardInterrupt",
     "evalue": "",
     "output_type": "error",
     "traceback": [
      "\u001b[0;31m---------------------------------------------------------------------------\u001b[0m",
      "\u001b[0;31mKeyboardInterrupt\u001b[0m                         Traceback (most recent call last)",
      "\u001b[0;32m<ipython-input-123-6b95e6f191e9>\u001b[0m in \u001b[0;36m<module>\u001b[0;34m()\u001b[0m\n\u001b[1;32m      7\u001b[0m \u001b[0;32mfor\u001b[0m \u001b[0murl\u001b[0m \u001b[0;32min\u001b[0m \u001b[0mdata\u001b[0m\u001b[0;34m:\u001b[0m\u001b[0;34m\u001b[0m\u001b[0m\n\u001b[1;32m      8\u001b[0m     \u001b[0mcrawl\u001b[0m\u001b[0;34m.\u001b[0m\u001b[0murl\u001b[0m \u001b[0;34m=\u001b[0m \u001b[0mbase_url\u001b[0m \u001b[0;34m+\u001b[0m \u001b[0murl\u001b[0m\u001b[0;34m\u001b[0m\u001b[0m\n\u001b[0;32m----> 9\u001b[0;31m     \u001b[0mcrawl\u001b[0m\u001b[0;34m.\u001b[0m\u001b[0mstart\u001b[0m\u001b[0;34m(\u001b[0m\u001b[0;34m)\u001b[0m\u001b[0;34m\u001b[0m\u001b[0m\n\u001b[0m",
      "\u001b[0;32m<ipython-input-119-eacd4e7d449b>\u001b[0m in \u001b[0;36mstart\u001b[0;34m(self)\u001b[0m\n\u001b[1;32m     23\u001b[0m             \u001b[0mdiv_list\u001b[0m \u001b[0;34m=\u001b[0m \u001b[0mself\u001b[0m\u001b[0;34m.\u001b[0m\u001b[0mlistfct\u001b[0m\u001b[0;34m(\u001b[0m\u001b[0msoup\u001b[0m\u001b[0;34m)\u001b[0m\u001b[0;34m\u001b[0m\u001b[0m\n\u001b[1;32m     24\u001b[0m             \u001b[0;32mfor\u001b[0m \u001b[0mitem\u001b[0m \u001b[0;32min\u001b[0m \u001b[0mdiv_list\u001b[0m\u001b[0;34m[\u001b[0m\u001b[0;34m:\u001b[0m\u001b[0;36m2\u001b[0m\u001b[0;34m]\u001b[0m\u001b[0;34m:\u001b[0m\u001b[0;34m\u001b[0m\u001b[0m\n\u001b[0;32m---> 25\u001b[0;31m                 \u001b[0mself\u001b[0m\u001b[0;34m.\u001b[0m\u001b[0mexecfct\u001b[0m\u001b[0;34m(\u001b[0m\u001b[0mitem\u001b[0m\u001b[0;34m)\u001b[0m\u001b[0;34m\u001b[0m\u001b[0m\n\u001b[0m\u001b[1;32m     26\u001b[0m             \u001b[0mself\u001b[0m\u001b[0;34m.\u001b[0m\u001b[0murl\u001b[0m \u001b[0;34m=\u001b[0m \u001b[0mself\u001b[0m\u001b[0;34m.\u001b[0m\u001b[0mnextfct\u001b[0m\u001b[0;34m(\u001b[0m\u001b[0msoup\u001b[0m\u001b[0;34m)\u001b[0m\u001b[0;34m\u001b[0m\u001b[0m\n\u001b[1;32m     27\u001b[0m \u001b[0;34m\u001b[0m\u001b[0m\n",
      "\u001b[0;32m<ipython-input-122-073e7a1a60c7>\u001b[0m in \u001b[0;36mexecfct\u001b[0;34m(self, item)\u001b[0m\n\u001b[1;32m     10\u001b[0m     \u001b[0;32mdef\u001b[0m \u001b[0mexecfct\u001b[0m\u001b[0;34m(\u001b[0m\u001b[0mself\u001b[0m\u001b[0;34m,\u001b[0m \u001b[0mitem\u001b[0m\u001b[0;34m)\u001b[0m\u001b[0;34m:\u001b[0m\u001b[0;34m\u001b[0m\u001b[0m\n\u001b[1;32m     11\u001b[0m         \u001b[0mself\u001b[0m\u001b[0;34m.\u001b[0m\u001b[0mreview_crawler\u001b[0m\u001b[0;34m.\u001b[0m\u001b[0murl\u001b[0m \u001b[0;34m=\u001b[0m \u001b[0mitem\u001b[0m\u001b[0;34m\u001b[0m\u001b[0m\n\u001b[0;32m---> 12\u001b[0;31m         \u001b[0mself\u001b[0m\u001b[0;34m.\u001b[0m\u001b[0mreview_crawler\u001b[0m\u001b[0;34m.\u001b[0m\u001b[0mstart\u001b[0m\u001b[0;34m(\u001b[0m\u001b[0;34m)\u001b[0m\u001b[0;34m\u001b[0m\u001b[0m\n\u001b[0m\u001b[1;32m     13\u001b[0m \u001b[0;34m\u001b[0m\u001b[0m\n\u001b[1;32m     14\u001b[0m     \u001b[0;32mdef\u001b[0m \u001b[0mnextfct\u001b[0m\u001b[0;34m(\u001b[0m\u001b[0mself\u001b[0m\u001b[0;34m,\u001b[0m \u001b[0msoup\u001b[0m\u001b[0;34m)\u001b[0m\u001b[0;34m:\u001b[0m\u001b[0;34m\u001b[0m\u001b[0m\n",
      "\u001b[0;32m<ipython-input-119-eacd4e7d449b>\u001b[0m in \u001b[0;36mstart\u001b[0;34m(self)\u001b[0m\n\u001b[1;32m     18\u001b[0m         \u001b[0;32mwhile\u001b[0m \u001b[0mself\u001b[0m\u001b[0;34m.\u001b[0m\u001b[0murl\u001b[0m\u001b[0;34m:\u001b[0m\u001b[0;34m\u001b[0m\u001b[0m\n\u001b[1;32m     19\u001b[0m             \u001b[0mself\u001b[0m\u001b[0;34m.\u001b[0m\u001b[0mdriver\u001b[0m\u001b[0;34m.\u001b[0m\u001b[0mget\u001b[0m\u001b[0;34m(\u001b[0m\u001b[0mself\u001b[0m\u001b[0;34m.\u001b[0m\u001b[0murl\u001b[0m\u001b[0;34m)\u001b[0m\u001b[0;34m\u001b[0m\u001b[0m\n\u001b[0;32m---> 20\u001b[0;31m             \u001b[0mtime\u001b[0m\u001b[0;34m.\u001b[0m\u001b[0msleep\u001b[0m\u001b[0;34m(\u001b[0m\u001b[0mrandom\u001b[0m\u001b[0;34m.\u001b[0m\u001b[0mrandint\u001b[0m\u001b[0;34m(\u001b[0m\u001b[0;36m5\u001b[0m\u001b[0;34m,\u001b[0m\u001b[0;36m10\u001b[0m\u001b[0;34m)\u001b[0m\u001b[0;34m)\u001b[0m\u001b[0;34m\u001b[0m\u001b[0m\n\u001b[0m\u001b[1;32m     21\u001b[0m             \u001b[0mhtml\u001b[0m \u001b[0;34m=\u001b[0m \u001b[0mself\u001b[0m\u001b[0;34m.\u001b[0m\u001b[0mdriver\u001b[0m\u001b[0;34m.\u001b[0m\u001b[0mpage_source\u001b[0m\u001b[0;34m\u001b[0m\u001b[0m\n\u001b[1;32m     22\u001b[0m             \u001b[0msoup\u001b[0m \u001b[0;34m=\u001b[0m \u001b[0mbs\u001b[0m\u001b[0;34m(\u001b[0m\u001b[0mhtml\u001b[0m\u001b[0;34m)\u001b[0m\u001b[0;34m\u001b[0m\u001b[0m\n",
      "\u001b[0;31mKeyboardInterrupt\u001b[0m: "
     ]
    }
   ],
   "source": [
    "base_url = \"http://www.tripadvisor.com\"\n",
    "profile = webdriver.FirefoxProfile(\"/Users/alexrhee/Library/Application Support/Firefox/Profiles/Selenium\")\n",
    "driver = webdriver.Firefox(profile)\n",
    "driver.set_page_load_timeout(15)\n",
    "crawl = ParentCrawler(driver)\n",
    "\n",
    "for url in data:\n",
    "    crawl.url = base_url + url\n",
    "    crawl.start()"
   ]
  },
  {
   "cell_type": "code",
   "execution_count": 115,
   "metadata": {
    "collapsed": false
   },
   "outputs": [
    {
     "data": {
      "text/plain": [
       "u'http://www.tripadvisor.com/Attractions-g293924-Activities-Hanoi.html'"
      ]
     },
     "execution_count": 115,
     "metadata": {},
     "output_type": "execute_result"
    }
   ],
   "source": []
  },
  {
   "cell_type": "code",
   "execution_count": null,
   "metadata": {
    "collapsed": true
   },
   "outputs": [],
   "source": []
  }
 ],
 "metadata": {
  "kernelspec": {
   "display_name": "Python 2",
   "language": "python",
   "name": "python2"
  },
  "language_info": {
   "codemirror_mode": {
    "name": "ipython",
    "version": 2
   },
   "file_extension": ".py",
   "mimetype": "text/x-python",
   "name": "python",
   "nbconvert_exporter": "python",
   "pygments_lexer": "ipython2",
   "version": "2.7.9"
  }
 },
 "nbformat": 4,
 "nbformat_minor": 0
}
