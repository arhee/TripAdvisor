{
 "cells": [
  {
   "cell_type": "code",
   "execution_count": 5,
   "metadata": {
    "collapsed": false
   },
   "outputs": [],
   "source": [
    "fname = '../tests/test_files/review1.html'\n",
    "with open(fname,'r') as f:\n",
    "    html = f.read()"
   ]
  },
  {
   "cell_type": "code",
   "execution_count": null,
   "metadata": {
    "collapsed": false
   },
   "outputs": [],
   "source": []
  },
  {
   "cell_type": "code",
   "execution_count": 6,
   "metadata": {
    "collapsed": true
   },
   "outputs": [],
   "source": [
    "from BeautifulSoup import BeautifulSoup\n",
    "import sqlite3"
   ]
  },
  {
   "cell_type": "code",
   "execution_count": 7,
   "metadata": {
    "collapsed": false
   },
   "outputs": [],
   "source": [
    "class Review(object):\n",
    "    def __init__(self, soup, current):\n",
    "        self.soup = soup\n",
    "        self.attr = {}\n",
    "        \n",
    "        self.attr.update(current)\n",
    "        \n",
    "        self.attr['Rating'] = self.get_rating()\n",
    "        self.attr['Review'] = self.get_review()\n",
    "        self.attr['ReviewDate'] = self.get_reviewdate()\n",
    "        self.attr['VisitDate'] = self.get_visitdate()\n",
    "        self.attr['Title'] = self.get_title()\n",
    "        self.attr['UID'] = self.get_uid()\n",
    "        self.attr['ReviewID'] = self.get_reviewID()\n",
    "        self.attr['User'] = self.get_user()\n",
    "        self.attr['UserHome'] = self.get_userhome()\n",
    "        self.attr['Key'] = self.attr['UID'] + '-' + str(self.attr['ReviewID'])        \n",
    "        \n",
    "    def get_rating(self):        \n",
    "        tag = self.soup.find(lambda tag: tag.name == 'img' and tag.has_key('alt') and 'stars' in tag['alt'])\n",
    "        return int(tag['alt'][0])\n",
    "    \n",
    "    def get_review(self):\n",
    "        texts = self.soup.findAll('div',{'class':'entry'})\n",
    "        return texts[-1].text\n",
    "    \n",
    "    def get_reviewdate(self):\n",
    "        txt = self.soup.find(\"span\", {\"class\":\"ratingDate\"}).contents[0]\n",
    "        date = txt.replace('Reviewed','').strip()\n",
    "        return date #date_object.strftime('%m-%d-%Y')\n",
    "\n",
    "    def get_visitdate(self):\n",
    "        try:\n",
    "            txt = self.soup.find('div',{'class':'recommend'}).text\n",
    "        except:\n",
    "            txt = ''\n",
    "        return txt.replace('Visited','').strip()\n",
    "    \n",
    "    def get_title(self):\n",
    "        return self.soup.find('span',{'class':'noQuotes'}).text\n",
    "    \n",
    "    def get_uid(self):\n",
    "        tag = self.soup.find('div',{'class':'member_info'})\n",
    "        uid = tag.find(lambda tag: tag.name=='div' and tag.has_key('id'))['id']\n",
    "        return uid[4:uid.find('-')]\n",
    "    \n",
    "    def get_reviewID(self):\n",
    "        return int(self.soup['id'][7:])\n",
    "\n",
    "    def get_user(self):\n",
    "        try:\n",
    "            return raw_review.find('div',{'class':'username mo'}).text\n",
    "        except:\n",
    "            return ''    \n",
    "        \n",
    "    def get_userhome(self):\n",
    "        try:\n",
    "            return self.soup.find('div',{'class':'location'}).text\n",
    "        except:\n",
    "            return ''\n",
    "    \n",
    "    def get_vars(self):\n",
    "        return self.attr.keys()\n",
    "    \n",
    "    def get_values(self):\n",
    "        return self.attr.values()\n",
    "    \n",
    "\n"
   ]
  },
  {
   "cell_type": "code",
   "execution_count": 8,
   "metadata": {
    "collapsed": false
   },
   "outputs": [],
   "source": [
    "class ReviewList(object):\n",
    "    \n",
    "    def __init__(self):\n",
    "        self.reviews = []\n",
    "        \n",
    "    def size(self):\n",
    "        return len(self.reviews)\n",
    "    \n",
    "    def DBdump(self, dbname, tbl_schema, tablename):\n",
    "        with sqlite3.connect(dbname) as conn:\n",
    "            conn.execute(tbl_schema)\n",
    "            for item in self.reviews:\n",
    "                qmarks = ', '.join('?' * len(item.get_vars()))\n",
    "                qry = \"INSERT OR IGNORE INTO {} {} VALUES ({})\".format(tablename, tuple(item.get_vars()), qmarks)\n",
    "                conn.execute(qry, item.get_values()) \n",
    "            conn.commit()\n",
    "    \n",
    "    def append(self, item):\n",
    "        self.reviews.append(item)\n",
    "        "
   ]
  },
  {
   "cell_type": "code",
   "execution_count": 9,
   "metadata": {
    "collapsed": false
   },
   "outputs": [
    {
     "name": "stdout",
     "output_type": "stream",
     "text": [
      "0\n",
      "1\n",
      "2\n",
      "3\n",
      "4\n",
      "5\n",
      "6\n",
      "7\n",
      "8\n",
      "9\n"
     ]
    }
   ],
   "source": [
    "VietnamDB = \"\"\"\n",
    "    CREATE TABLE IF NOT EXISTS Vietnam (\n",
    "        Key TEXT PRIMARY KEY,\n",
    "        Country TEXT,\n",
    "        ItemReviewed TEXT,\n",
    "        Type TEXT,\n",
    "        ParentGroup TEXT,\n",
    "        Location TEXT,\n",
    "        Rating INT,\n",
    "        Review TEXT,\n",
    "        ReviewDate TEXT,\n",
    "        VisitDate TEXT,\n",
    "        Title TEXT,\n",
    "        UID INT,\n",
    "        ReviewID TEXT,\n",
    "        User TEXT,\n",
    "        UserHome TEXT\n",
    "        )\"\"\"\n",
    "\n",
    "    \n",
    "soup = BeautifulSoup(html)\n",
    "\n",
    "current = {}\n",
    "addr = soup.find('h1',{'class':'header   '}).text.split(',')\n",
    "\n",
    "current['ItemReviewed'] = addr[0].strip()\n",
    "current['Location'] = addr[1].strip()\n",
    "current['Country'] = 'Vietnam'\n",
    "current['Type'] = 'things to do'\n",
    "current['ParentGroup'] = ''\n",
    "\n",
    "tablename = 'Vietnam'\n",
    "\n",
    "\n",
    "mylist = ReviewList()\n",
    "tags = soup.find('div',{'id':'REVIEWS'}).findChildren(recursive=False)\n",
    "reviews = filter(lambda tag: tag.has_key('id') and 'review_' in tag['id'], tags)\n",
    "for idx, raw_review in enumerate(reviews):\n",
    "    print idx\n",
    "    obj = Review(raw_review, current)\n",
    "    mylist.append(obj)\n",
    "\n",
    "mylist.DBdump('TripAdvisor.db', VietnamDB, tablename)"
   ]
  },
  {
   "cell_type": "code",
   "execution_count": 381,
   "metadata": {
    "collapsed": false
   },
   "outputs": [
    {
     "ename": "IndentationError",
     "evalue": "expected an indented block (<ipython-input-381-b11384db51b8>, line 3)",
     "output_type": "error",
     "traceback": [
      "\u001b[0;36m  File \u001b[0;32m\"<ipython-input-381-b11384db51b8>\"\u001b[0;36m, line \u001b[0;32m3\u001b[0m\n\u001b[0;31m    #    pp.pprint(item.attr)\u001b[0m\n\u001b[0m                             ^\u001b[0m\n\u001b[0;31mIndentationError\u001b[0m\u001b[0;31m:\u001b[0m expected an indented block\n"
     ]
    }
   ],
   "source": [
    "pp = pprint.PrettyPrinter(indent=4)\n",
    "for item in mylist.reviews:\n",
    "#    pp.pprint(item.attr)\n"
   ]
  },
  {
   "cell_type": "code",
   "execution_count": 25,
   "metadata": {
    "collapsed": false
   },
   "outputs": [],
   "source": [
    "qry = \"SELECT COUNT(*) FROM Vietnam\"\n",
    "with sqlite3.connect('TripAdvisor.db') as conn:\n",
    "    cur = conn.cursor()\n",
    "    cur.execute(qry)\n",
    "    result = cur.fetchall()"
   ]
  },
  {
   "cell_type": "code",
   "execution_count": 24,
   "metadata": {
    "collapsed": false
   },
   "outputs": [
    {
     "data": {
      "text/plain": [
       "[5, 5, 5, 5, 4, 3, 5, 5, 5, 5]"
      ]
     },
     "execution_count": 24,
     "metadata": {},
     "output_type": "execute_result"
    }
   ],
   "source": [
    "map(lambda x: x[0], result)"
   ]
  },
  {
   "cell_type": "code",
   "execution_count": 28,
   "metadata": {
    "collapsed": false
   },
   "outputs": [
    {
     "data": {
      "text/plain": [
       "10"
      ]
     },
     "execution_count": 28,
     "metadata": {},
     "output_type": "execute_result"
    }
   ],
   "source": [
    "result[0][0]"
   ]
  },
  {
   "cell_type": "code",
   "execution_count": null,
   "metadata": {
    "collapsed": true
   },
   "outputs": [],
   "source": []
  }
 ],
 "metadata": {
  "kernelspec": {
   "display_name": "Python 2",
   "language": "python",
   "name": "python2"
  },
  "language_info": {
   "codemirror_mode": {
    "name": "ipython",
    "version": 2
   },
   "file_extension": ".py",
   "mimetype": "text/x-python",
   "name": "python",
   "nbconvert_exporter": "python",
   "pygments_lexer": "ipython2",
   "version": "2.7.9"
  }
 },
 "nbformat": 4,
 "nbformat_minor": 0
}
