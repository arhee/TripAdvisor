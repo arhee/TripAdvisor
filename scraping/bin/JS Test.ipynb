{
 "cells": [
  {
   "cell_type": "code",
   "execution_count": 8,
   "metadata": {
    "collapsed": false
   },
   "outputs": [],
   "source": [
    "from selenium import webdriver\n",
    "from selenium.webdriver.support.ui import WebDriverWait\n",
    "from bs4 import BeautifulSoup as bs\n",
    "import time"
   ]
  },
  {
   "cell_type": "code",
   "execution_count": 22,
   "metadata": {
    "collapsed": false
   },
   "outputs": [],
   "source": [
    "url = \"http://www.tripadvisor.com/Attraction_Review-g298082-d4507121-Reviews-or2940-Hoi_An_Ancient_Town-Hoi_An_Quang_Nam_Province.html#REVIEWS\"\n",
    "url2 = \"http://www.tripadvisor.com/Attraction_Review-g659924-d3169590-Reviews-Paradise_Cave-Dong_Hoi_Quang_Binh_Province.html\"\n",
    "profile = webdriver.FirefoxProfile(\"/Users/alexrhee/Library/Application Support/Firefox/Profiles/Selenium\")\n",
    "driver = webdriver.Firefox(profile)\n",
    "driver.get(url2)"
   ]
  },
  {
   "cell_type": "code",
   "execution_count": 10,
   "metadata": {
    "collapsed": true
   },
   "outputs": [],
   "source": []
  },
  {
   "cell_type": "code",
   "execution_count": 23,
   "metadata": {
    "collapsed": false
   },
   "outputs": [],
   "source": [
    "# try clicking and if the popup occcurs, close it.\n",
    "element = driver.find_elements_by_xpath(\"//span[@class='partnerRvw']/child::span\")    \n",
    "try:\n",
    "    element[0].click()\n",
    "except:\n",
    "    pass\n",
    "time.sleep(3)\n",
    "\n",
    "html = driver.page_source\n",
    "soup = bs(html)\n",
    "\n",
    "p = soup.find('div',{'class':'xCloseGreen'})\n",
    "if p:\n",
    "    element = driver.find_element_by_xpath(\"//div[@class='xCloseGreen']\")    \n",
    "    element.click()"
   ]
  },
  {
   "cell_type": "code",
   "execution_count": 24,
   "metadata": {
    "collapsed": false
   },
   "outputs": [],
   "source": [
    "#open all elements once the popup is gone\n",
    "element = driver.find_elements_by_xpath(\"//span[@class='partnerRvw']/child::span\")    \n",
    "for x in element:\n",
    "    try:\n",
    "        x.click()\n",
    "    except:\n",
    "        pass\n"
   ]
  },
  {
   "cell_type": "code",
   "execution_count": 53,
   "metadata": {
    "collapsed": false
   },
   "outputs": [],
   "source": [
    "from selenium.webdriver.common.action_chains import ActionChains\n",
    "driver = webdriver.Chrome()\n",
    "driver.get(url)\n",
    "\n",
    "html = driver.page_source\n",
    "soup = bs(html)\n",
    "\n",
    "p = soup.find('div',{'class':'member_info'})\n",
    "element = driver.find_elements_by_xpath(\"//span[@class='member_info']/child::span\")"
   ]
  },
  {
   "cell_type": "code",
   "execution_count": 59,
   "metadata": {
    "collapsed": false
   },
   "outputs": [],
   "source": [
    "#ActionChains(driver).move_to_element(element[0])#.click(hidden_submenu).perform()\n",
    "#html = driver.page_source\n",
    "element = driver.find_elements_by_xpath(\"//div[@class='member_info']\")"
   ]
  },
  {
   "cell_type": "code",
   "execution_count": 62,
   "metadata": {
    "collapsed": false
   },
   "outputs": [],
   "source": [
    "ActionChains(driver).move_to_element(element[0]).perform()"
   ]
  },
  {
   "cell_type": "code",
   "execution_count": 65,
   "metadata": {
    "collapsed": false
   },
   "outputs": [
    {
     "data": {
      "text/plain": [
       "<a href=\"/members/junglejays\">\n",
       "<img src=\"http://static.tacdn.com/img2/icons/btn-icon-profile.png\"/>Full profile </a>"
      ]
     },
     "execution_count": 65,
     "metadata": {},
     "output_type": "execute_result"
    }
   ],
   "source": [
    "#Find the users homepage\n",
    "soup = bs(driver.page_source)\n",
    "f = soup.findAll(\"div\", {\"class\":\"baseNav\"})\n",
    "p = f[0].findAll('a')\n",
    "p[1]['href']"
   ]
  },
  {
   "cell_type": "code",
   "execution_count": 6,
   "metadata": {
    "collapsed": false
   },
   "outputs": [],
   "source": [
    "html = driver.page_source"
   ]
  },
  {
   "cell_type": "code",
   "execution_count": 9,
   "metadata": {
    "collapsed": false
   },
   "outputs": [],
   "source": [
    "with open('test1.html','w') as f:\n",
    "    f.write(html.encode('utf-8'))"
   ]
  },
  {
   "cell_type": "code",
   "execution_count": null,
   "metadata": {
    "collapsed": false
   },
   "outputs": [],
   "source": []
  },
  {
   "cell_type": "code",
   "execution_count": 74,
   "metadata": {
    "collapsed": false
   },
   "outputs": [],
   "source": [
    "from selenium import webdriver\n",
    "driver = webdriver.Chrome()\n",
    "url = \"http://www.tripadvisor.com/Attraction_Review-g298082-d4507121-Reviews-or2940-Hoi_An_Ancient_Town-Hoi_An_Quang_Nam_Province.html#REVIEWS\"\n",
    "driver.get(url)\n"
   ]
  },
  {
   "cell_type": "code",
   "execution_count": 10,
   "metadata": {
    "collapsed": false
   },
   "outputs": [],
   "source": [
    "a = range(10)\n"
   ]
  },
  {
   "cell_type": "code",
   "execution_count": 13,
   "metadata": {
    "collapsed": false
   },
   "outputs": [
    {
     "ename": "ValueError",
     "evalue": "93 is not in list",
     "output_type": "error",
     "traceback": [
      "\u001b[0;31m---------------------------------------------------------------------------\u001b[0m",
      "\u001b[0;31mValueError\u001b[0m                                Traceback (most recent call last)",
      "\u001b[0;32m<ipython-input-13-5352e4396b23>\u001b[0m in \u001b[0;36m<module>\u001b[0;34m()\u001b[0m\n\u001b[0;32m----> 1\u001b[0;31m \u001b[0ma\u001b[0m\u001b[0;34m.\u001b[0m\u001b[0mindex\u001b[0m\u001b[0;34m(\u001b[0m\u001b[0;36m93\u001b[0m\u001b[0;34m)\u001b[0m\u001b[0;34m\u001b[0m\u001b[0m\n\u001b[0m",
      "\u001b[0;31mValueError\u001b[0m: 93 is not in list"
     ]
    }
   ],
   "source": [
    "a.index(93)"
   ]
  },
  {
   "cell_type": "code",
   "execution_count": null,
   "metadata": {
    "collapsed": false
   },
   "outputs": [],
   "source": [
    "\n"
   ]
  },
  {
   "cell_type": "code",
   "execution_count": null,
   "metadata": {
    "collapsed": true
   },
   "outputs": [],
   "source": []
  }
 ],
 "metadata": {
  "kernelspec": {
   "display_name": "Python 2",
   "language": "python",
   "name": "python2"
  },
  "language_info": {
   "codemirror_mode": {
    "name": "ipython",
    "version": 2
   },
   "file_extension": ".py",
   "mimetype": "text/x-python",
   "name": "python",
   "nbconvert_exporter": "python",
   "pygments_lexer": "ipython2",
   "version": "2.7.9"
  }
 },
 "nbformat": 4,
 "nbformat_minor": 0
}
